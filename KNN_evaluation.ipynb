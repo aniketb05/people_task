{
 "cells": [
  {
   "cell_type": "code",
   "execution_count": 17,
   "metadata": {
    "collapsed": false
   },
   "outputs": [],
   "source": [
    "import numpy as np\n",
    "import pandas as pd\n",
    "import matplotlib.pyplot as plt\n",
    "import seaborn as sns\n",
    "from sklearn.preprocessing import MinMaxScaler\n",
    "from sklearn.neighbors import KNeighborsClassifier\n",
    "from sklearn.model_selection import train_test_split\n",
    "from sklearn.grid_search import GridSearchCV\n",
    "from sklearn.metrics import confusion_matrix\n",
    "from sklearn.metrics import classification_report\n",
    "from sklearn.metrics import roc_auc_score\n",
    "from sklearn.metrics import precision_recall_curve\n",
    "from sklearn.metrics import roc_curve, auc\n",
    "%matplotlib inline\n",
    "sns.set(style=\"darkgrid\" )"
   ]
  },
  {
   "cell_type": "code",
   "execution_count": 2,
   "metadata": {
    "collapsed": true
   },
   "outputs": [],
   "source": [
    "prob = pd.read_csv('ClassificationProblem1.txt', delimiter = '\\t', index_col = 'Index', parse_dates = ['F15', 'F16'])"
   ]
  },
  {
   "cell_type": "code",
   "execution_count": 3,
   "metadata": {
    "collapsed": false
   },
   "outputs": [
    {
     "data": {
      "text/html": [
       "<div>\n",
       "<table border=\"1\" class=\"dataframe\">\n",
       "  <thead>\n",
       "    <tr style=\"text-align: right;\">\n",
       "      <th></th>\n",
       "      <th>F1</th>\n",
       "      <th>F2</th>\n",
       "      <th>F3</th>\n",
       "      <th>F4</th>\n",
       "      <th>F5</th>\n",
       "      <th>F6</th>\n",
       "      <th>F7</th>\n",
       "      <th>F8</th>\n",
       "      <th>F9</th>\n",
       "      <th>F10</th>\n",
       "      <th>...</th>\n",
       "      <th>F14</th>\n",
       "      <th>F15</th>\n",
       "      <th>F16</th>\n",
       "      <th>F17</th>\n",
       "      <th>F18</th>\n",
       "      <th>F19</th>\n",
       "      <th>F20</th>\n",
       "      <th>F21</th>\n",
       "      <th>F22</th>\n",
       "      <th>C</th>\n",
       "    </tr>\n",
       "    <tr>\n",
       "      <th>Index</th>\n",
       "      <th></th>\n",
       "      <th></th>\n",
       "      <th></th>\n",
       "      <th></th>\n",
       "      <th></th>\n",
       "      <th></th>\n",
       "      <th></th>\n",
       "      <th></th>\n",
       "      <th></th>\n",
       "      <th></th>\n",
       "      <th></th>\n",
       "      <th></th>\n",
       "      <th></th>\n",
       "      <th></th>\n",
       "      <th></th>\n",
       "      <th></th>\n",
       "      <th></th>\n",
       "      <th></th>\n",
       "      <th></th>\n",
       "      <th></th>\n",
       "      <th></th>\n",
       "    </tr>\n",
       "  </thead>\n",
       "  <tbody>\n",
       "    <tr>\n",
       "      <th>1</th>\n",
       "      <td>0.224506</td>\n",
       "      <td>0.500340</td>\n",
       "      <td>0.489860</td>\n",
       "      <td>0.902413</td>\n",
       "      <td>7934</td>\n",
       "      <td>-6970</td>\n",
       "      <td>-5714</td>\n",
       "      <td>9982</td>\n",
       "      <td>-5697</td>\n",
       "      <td>4227810299</td>\n",
       "      <td>...</td>\n",
       "      <td>-3433637453</td>\n",
       "      <td>1986-10-04</td>\n",
       "      <td>1992-09-06</td>\n",
       "      <td>2</td>\n",
       "      <td>1</td>\n",
       "      <td>706</td>\n",
       "      <td>305</td>\n",
       "      <td>1</td>\n",
       "      <td>2</td>\n",
       "      <td>0</td>\n",
       "    </tr>\n",
       "    <tr>\n",
       "      <th>2</th>\n",
       "      <td>0.321128</td>\n",
       "      <td>0.281119</td>\n",
       "      <td>0.907283</td>\n",
       "      <td>0.772159</td>\n",
       "      <td>-8238</td>\n",
       "      <td>1219</td>\n",
       "      <td>1663</td>\n",
       "      <td>1287</td>\n",
       "      <td>-3658</td>\n",
       "      <td>-1146724819</td>\n",
       "      <td>...</td>\n",
       "      <td>609277486</td>\n",
       "      <td>1979-02-24</td>\n",
       "      <td>1983-01-05</td>\n",
       "      <td>1</td>\n",
       "      <td>1</td>\n",
       "      <td>423</td>\n",
       "      <td>206</td>\n",
       "      <td>18</td>\n",
       "      <td>7</td>\n",
       "      <td>1</td>\n",
       "    </tr>\n",
       "    <tr>\n",
       "      <th>3</th>\n",
       "      <td>0.893441</td>\n",
       "      <td>0.622005</td>\n",
       "      <td>0.998776</td>\n",
       "      <td>0.098386</td>\n",
       "      <td>8540</td>\n",
       "      <td>5266</td>\n",
       "      <td>-9377</td>\n",
       "      <td>-3504</td>\n",
       "      <td>-4511</td>\n",
       "      <td>5947184989</td>\n",
       "      <td>...</td>\n",
       "      <td>-8977995005</td>\n",
       "      <td>1989-01-12</td>\n",
       "      <td>1986-11-22</td>\n",
       "      <td>2</td>\n",
       "      <td>1</td>\n",
       "      <td>703</td>\n",
       "      <td>315</td>\n",
       "      <td>1</td>\n",
       "      <td>4</td>\n",
       "      <td>0</td>\n",
       "    </tr>\n",
       "    <tr>\n",
       "      <th>4</th>\n",
       "      <td>0.320641</td>\n",
       "      <td>0.957234</td>\n",
       "      <td>0.346000</td>\n",
       "      <td>0.646479</td>\n",
       "      <td>-7772</td>\n",
       "      <td>-383</td>\n",
       "      <td>9681</td>\n",
       "      <td>-8661</td>\n",
       "      <td>3474</td>\n",
       "      <td>-5724795826</td>\n",
       "      <td>...</td>\n",
       "      <td>4868760308</td>\n",
       "      <td>1982-02-18</td>\n",
       "      <td>1992-06-10</td>\n",
       "      <td>1</td>\n",
       "      <td>1</td>\n",
       "      <td>122</td>\n",
       "      <td>304</td>\n",
       "      <td>15</td>\n",
       "      <td>1</td>\n",
       "      <td>0</td>\n",
       "    </tr>\n",
       "    <tr>\n",
       "      <th>5</th>\n",
       "      <td>0.475961</td>\n",
       "      <td>0.623008</td>\n",
       "      <td>0.544988</td>\n",
       "      <td>0.159709</td>\n",
       "      <td>1571</td>\n",
       "      <td>-8039</td>\n",
       "      <td>-7961</td>\n",
       "      <td>-2385</td>\n",
       "      <td>4407</td>\n",
       "      <td>-3097637172</td>\n",
       "      <td>...</td>\n",
       "      <td>9757408267</td>\n",
       "      <td>1987-04-10</td>\n",
       "      <td>1985-10-19</td>\n",
       "      <td>1</td>\n",
       "      <td>1</td>\n",
       "      <td>486</td>\n",
       "      <td>240</td>\n",
       "      <td>1</td>\n",
       "      <td>1</td>\n",
       "      <td>0</td>\n",
       "    </tr>\n",
       "  </tbody>\n",
       "</table>\n",
       "<p>5 rows × 23 columns</p>\n",
       "</div>"
      ],
      "text/plain": [
       "             F1        F2        F3        F4    F5    F6    F7    F8    F9  \\\n",
       "Index                                                                         \n",
       "1      0.224506  0.500340  0.489860  0.902413  7934 -6970 -5714  9982 -5697   \n",
       "2      0.321128  0.281119  0.907283  0.772159 -8238  1219  1663  1287 -3658   \n",
       "3      0.893441  0.622005  0.998776  0.098386  8540  5266 -9377 -3504 -4511   \n",
       "4      0.320641  0.957234  0.346000  0.646479 -7772  -383  9681 -8661  3474   \n",
       "5      0.475961  0.623008  0.544988  0.159709  1571 -8039 -7961 -2385  4407   \n",
       "\n",
       "              F10 ...         F14        F15        F16  F17 F18  F19  F20  \\\n",
       "Index             ...                                                        \n",
       "1      4227810299 ... -3433637453 1986-10-04 1992-09-06    2   1  706  305   \n",
       "2     -1146724819 ...   609277486 1979-02-24 1983-01-05    1   1  423  206   \n",
       "3      5947184989 ... -8977995005 1989-01-12 1986-11-22    2   1  703  315   \n",
       "4     -5724795826 ...  4868760308 1982-02-18 1992-06-10    1   1  122  304   \n",
       "5     -3097637172 ...  9757408267 1987-04-10 1985-10-19    1   1  486  240   \n",
       "\n",
       "       F21  F22  C  \n",
       "Index               \n",
       "1        1    2  0  \n",
       "2       18    7  1  \n",
       "3        1    4  0  \n",
       "4       15    1  0  \n",
       "5        1    1  0  \n",
       "\n",
       "[5 rows x 23 columns]"
      ]
     },
     "execution_count": 3,
     "metadata": {},
     "output_type": "execute_result"
    }
   ],
   "source": [
    "prob.head()"
   ]
  },
  {
   "cell_type": "code",
   "execution_count": 4,
   "metadata": {
    "collapsed": true
   },
   "outputs": [],
   "source": [
    "prob['F23']=(prob.F15-prob.F16).astype('timedelta64[D]')"
   ]
  },
  {
   "cell_type": "code",
   "execution_count": 5,
   "metadata": {
    "collapsed": false
   },
   "outputs": [
    {
     "data": {
      "text/html": [
       "<div>\n",
       "<table border=\"1\" class=\"dataframe\">\n",
       "  <thead>\n",
       "    <tr style=\"text-align: right;\">\n",
       "      <th></th>\n",
       "      <th>F1</th>\n",
       "      <th>F2</th>\n",
       "      <th>F3</th>\n",
       "      <th>F4</th>\n",
       "      <th>F5</th>\n",
       "      <th>F6</th>\n",
       "      <th>F7</th>\n",
       "      <th>F8</th>\n",
       "      <th>F9</th>\n",
       "      <th>F10</th>\n",
       "      <th>...</th>\n",
       "      <th>F12</th>\n",
       "      <th>F13</th>\n",
       "      <th>F14</th>\n",
       "      <th>F17</th>\n",
       "      <th>F18</th>\n",
       "      <th>F19</th>\n",
       "      <th>F20</th>\n",
       "      <th>F21</th>\n",
       "      <th>F22</th>\n",
       "      <th>F23</th>\n",
       "    </tr>\n",
       "    <tr>\n",
       "      <th>Index</th>\n",
       "      <th></th>\n",
       "      <th></th>\n",
       "      <th></th>\n",
       "      <th></th>\n",
       "      <th></th>\n",
       "      <th></th>\n",
       "      <th></th>\n",
       "      <th></th>\n",
       "      <th></th>\n",
       "      <th></th>\n",
       "      <th></th>\n",
       "      <th></th>\n",
       "      <th></th>\n",
       "      <th></th>\n",
       "      <th></th>\n",
       "      <th></th>\n",
       "      <th></th>\n",
       "      <th></th>\n",
       "      <th></th>\n",
       "      <th></th>\n",
       "      <th></th>\n",
       "    </tr>\n",
       "  </thead>\n",
       "  <tbody>\n",
       "    <tr>\n",
       "      <th>1</th>\n",
       "      <td>0.224506</td>\n",
       "      <td>0.500340</td>\n",
       "      <td>0.489860</td>\n",
       "      <td>0.902413</td>\n",
       "      <td>7934</td>\n",
       "      <td>-6970</td>\n",
       "      <td>-5714</td>\n",
       "      <td>9982</td>\n",
       "      <td>-5697</td>\n",
       "      <td>4227810299</td>\n",
       "      <td>...</td>\n",
       "      <td>316195953</td>\n",
       "      <td>6176861823</td>\n",
       "      <td>-3433637453</td>\n",
       "      <td>2</td>\n",
       "      <td>1</td>\n",
       "      <td>706</td>\n",
       "      <td>305</td>\n",
       "      <td>1</td>\n",
       "      <td>2</td>\n",
       "      <td>-2164.0</td>\n",
       "    </tr>\n",
       "    <tr>\n",
       "      <th>2</th>\n",
       "      <td>0.321128</td>\n",
       "      <td>0.281119</td>\n",
       "      <td>0.907283</td>\n",
       "      <td>0.772159</td>\n",
       "      <td>-8238</td>\n",
       "      <td>1219</td>\n",
       "      <td>1663</td>\n",
       "      <td>1287</td>\n",
       "      <td>-3658</td>\n",
       "      <td>-1146724819</td>\n",
       "      <td>...</td>\n",
       "      <td>1378635942</td>\n",
       "      <td>-9031507610</td>\n",
       "      <td>609277486</td>\n",
       "      <td>1</td>\n",
       "      <td>1</td>\n",
       "      <td>423</td>\n",
       "      <td>206</td>\n",
       "      <td>18</td>\n",
       "      <td>7</td>\n",
       "      <td>-1411.0</td>\n",
       "    </tr>\n",
       "    <tr>\n",
       "      <th>3</th>\n",
       "      <td>0.893441</td>\n",
       "      <td>0.622005</td>\n",
       "      <td>0.998776</td>\n",
       "      <td>0.098386</td>\n",
       "      <td>8540</td>\n",
       "      <td>5266</td>\n",
       "      <td>-9377</td>\n",
       "      <td>-3504</td>\n",
       "      <td>-4511</td>\n",
       "      <td>5947184989</td>\n",
       "      <td>...</td>\n",
       "      <td>-9921889287</td>\n",
       "      <td>-5610051842</td>\n",
       "      <td>-8977995005</td>\n",
       "      <td>2</td>\n",
       "      <td>1</td>\n",
       "      <td>703</td>\n",
       "      <td>315</td>\n",
       "      <td>1</td>\n",
       "      <td>4</td>\n",
       "      <td>782.0</td>\n",
       "    </tr>\n",
       "    <tr>\n",
       "      <th>4</th>\n",
       "      <td>0.320641</td>\n",
       "      <td>0.957234</td>\n",
       "      <td>0.346000</td>\n",
       "      <td>0.646479</td>\n",
       "      <td>-7772</td>\n",
       "      <td>-383</td>\n",
       "      <td>9681</td>\n",
       "      <td>-8661</td>\n",
       "      <td>3474</td>\n",
       "      <td>-5724795826</td>\n",
       "      <td>...</td>\n",
       "      <td>6550322883</td>\n",
       "      <td>-4697085930</td>\n",
       "      <td>4868760308</td>\n",
       "      <td>1</td>\n",
       "      <td>1</td>\n",
       "      <td>122</td>\n",
       "      <td>304</td>\n",
       "      <td>15</td>\n",
       "      <td>1</td>\n",
       "      <td>-3765.0</td>\n",
       "    </tr>\n",
       "    <tr>\n",
       "      <th>5</th>\n",
       "      <td>0.475961</td>\n",
       "      <td>0.623008</td>\n",
       "      <td>0.544988</td>\n",
       "      <td>0.159709</td>\n",
       "      <td>1571</td>\n",
       "      <td>-8039</td>\n",
       "      <td>-7961</td>\n",
       "      <td>-2385</td>\n",
       "      <td>4407</td>\n",
       "      <td>-3097637172</td>\n",
       "      <td>...</td>\n",
       "      <td>759031103</td>\n",
       "      <td>9984692447</td>\n",
       "      <td>9757408267</td>\n",
       "      <td>1</td>\n",
       "      <td>1</td>\n",
       "      <td>486</td>\n",
       "      <td>240</td>\n",
       "      <td>1</td>\n",
       "      <td>1</td>\n",
       "      <td>538.0</td>\n",
       "    </tr>\n",
       "  </tbody>\n",
       "</table>\n",
       "<p>5 rows × 21 columns</p>\n",
       "</div>"
      ],
      "text/plain": [
       "             F1        F2        F3        F4    F5    F6    F7    F8    F9  \\\n",
       "Index                                                                         \n",
       "1      0.224506  0.500340  0.489860  0.902413  7934 -6970 -5714  9982 -5697   \n",
       "2      0.321128  0.281119  0.907283  0.772159 -8238  1219  1663  1287 -3658   \n",
       "3      0.893441  0.622005  0.998776  0.098386  8540  5266 -9377 -3504 -4511   \n",
       "4      0.320641  0.957234  0.346000  0.646479 -7772  -383  9681 -8661  3474   \n",
       "5      0.475961  0.623008  0.544988  0.159709  1571 -8039 -7961 -2385  4407   \n",
       "\n",
       "              F10   ...           F12         F13         F14  F17  F18  F19  \\\n",
       "Index               ...                                                        \n",
       "1      4227810299   ...     316195953  6176861823 -3433637453    2    1  706   \n",
       "2     -1146724819   ...    1378635942 -9031507610   609277486    1    1  423   \n",
       "3      5947184989   ...   -9921889287 -5610051842 -8977995005    2    1  703   \n",
       "4     -5724795826   ...    6550322883 -4697085930  4868760308    1    1  122   \n",
       "5     -3097637172   ...     759031103  9984692447  9757408267    1    1  486   \n",
       "\n",
       "       F20  F21  F22     F23  \n",
       "Index                         \n",
       "1      305    1    2 -2164.0  \n",
       "2      206   18    7 -1411.0  \n",
       "3      315    1    4   782.0  \n",
       "4      304   15    1 -3765.0  \n",
       "5      240    1    1   538.0  \n",
       "\n",
       "[5 rows x 21 columns]"
      ]
     },
     "execution_count": 5,
     "metadata": {},
     "output_type": "execute_result"
    }
   ],
   "source": [
    "prob_data = prob.drop(['F15', 'F16', 'C'], axis = 1)\n",
    "prob_data.head()"
   ]
  },
  {
   "cell_type": "code",
   "execution_count": 6,
   "metadata": {
    "collapsed": false
   },
   "outputs": [
    {
     "data": {
      "text/html": [
       "<div>\n",
       "<table border=\"1\" class=\"dataframe\">\n",
       "  <thead>\n",
       "    <tr style=\"text-align: right;\">\n",
       "      <th></th>\n",
       "      <th>F1</th>\n",
       "      <th>F2</th>\n",
       "      <th>F3</th>\n",
       "      <th>F4</th>\n",
       "      <th>F5</th>\n",
       "      <th>F6</th>\n",
       "      <th>F7</th>\n",
       "      <th>F8</th>\n",
       "      <th>F9</th>\n",
       "      <th>F10</th>\n",
       "      <th>...</th>\n",
       "      <th>F12</th>\n",
       "      <th>F13</th>\n",
       "      <th>F14</th>\n",
       "      <th>F17</th>\n",
       "      <th>F18</th>\n",
       "      <th>F19</th>\n",
       "      <th>F20</th>\n",
       "      <th>F21</th>\n",
       "      <th>F22</th>\n",
       "      <th>F23</th>\n",
       "    </tr>\n",
       "  </thead>\n",
       "  <tbody>\n",
       "    <tr>\n",
       "      <th>0</th>\n",
       "      <td>-0.551010</td>\n",
       "      <td>0.000686</td>\n",
       "      <td>-0.020267</td>\n",
       "      <td>0.804865</td>\n",
       "      <td>0.7934</td>\n",
       "      <td>-0.6970</td>\n",
       "      <td>-0.5714</td>\n",
       "      <td>0.9982</td>\n",
       "      <td>-0.5697</td>\n",
       "      <td>0.422812</td>\n",
       "      <td>...</td>\n",
       "      <td>0.031631</td>\n",
       "      <td>0.617687</td>\n",
       "      <td>-0.343379</td>\n",
       "      <td>-0.6</td>\n",
       "      <td>-1.0</td>\n",
       "      <td>0.566667</td>\n",
       "      <td>-0.324444</td>\n",
       "      <td>-1.0</td>\n",
       "      <td>-0.9</td>\n",
       "      <td>-0.141271</td>\n",
       "    </tr>\n",
       "    <tr>\n",
       "      <th>1</th>\n",
       "      <td>-0.357759</td>\n",
       "      <td>-0.437762</td>\n",
       "      <td>0.814592</td>\n",
       "      <td>0.544350</td>\n",
       "      <td>-0.8238</td>\n",
       "      <td>0.1219</td>\n",
       "      <td>0.1663</td>\n",
       "      <td>0.1287</td>\n",
       "      <td>-0.3658</td>\n",
       "      <td>-0.114660</td>\n",
       "      <td>...</td>\n",
       "      <td>0.137878</td>\n",
       "      <td>-0.903165</td>\n",
       "      <td>0.060917</td>\n",
       "      <td>-1.0</td>\n",
       "      <td>-1.0</td>\n",
       "      <td>-0.062222</td>\n",
       "      <td>-0.544444</td>\n",
       "      <td>0.7</td>\n",
       "      <td>-0.4</td>\n",
       "      <td>-0.045176</td>\n",
       "    </tr>\n",
       "    <tr>\n",
       "      <th>2</th>\n",
       "      <td>0.786903</td>\n",
       "      <td>0.244021</td>\n",
       "      <td>0.997581</td>\n",
       "      <td>-0.803233</td>\n",
       "      <td>0.8540</td>\n",
       "      <td>0.5266</td>\n",
       "      <td>-0.9377</td>\n",
       "      <td>-0.3504</td>\n",
       "      <td>-0.4511</td>\n",
       "      <td>0.594755</td>\n",
       "      <td>...</td>\n",
       "      <td>-0.992213</td>\n",
       "      <td>-0.561016</td>\n",
       "      <td>-0.897822</td>\n",
       "      <td>-0.6</td>\n",
       "      <td>-1.0</td>\n",
       "      <td>0.560000</td>\n",
       "      <td>-0.302222</td>\n",
       "      <td>-1.0</td>\n",
       "      <td>-0.7</td>\n",
       "      <td>0.234686</td>\n",
       "    </tr>\n",
       "    <tr>\n",
       "      <th>3</th>\n",
       "      <td>-0.358734</td>\n",
       "      <td>0.914487</td>\n",
       "      <td>-0.307992</td>\n",
       "      <td>0.292983</td>\n",
       "      <td>-0.7772</td>\n",
       "      <td>-0.0383</td>\n",
       "      <td>0.9681</td>\n",
       "      <td>-0.8661</td>\n",
       "      <td>0.3474</td>\n",
       "      <td>-0.572483</td>\n",
       "      <td>...</td>\n",
       "      <td>0.655065</td>\n",
       "      <td>-0.469718</td>\n",
       "      <td>0.486870</td>\n",
       "      <td>-1.0</td>\n",
       "      <td>-1.0</td>\n",
       "      <td>-0.731111</td>\n",
       "      <td>-0.326667</td>\n",
       "      <td>0.4</td>\n",
       "      <td>-1.0</td>\n",
       "      <td>-0.345584</td>\n",
       "    </tr>\n",
       "    <tr>\n",
       "      <th>4</th>\n",
       "      <td>-0.048083</td>\n",
       "      <td>0.246027</td>\n",
       "      <td>0.089991</td>\n",
       "      <td>-0.680585</td>\n",
       "      <td>0.1571</td>\n",
       "      <td>-0.8039</td>\n",
       "      <td>-0.7961</td>\n",
       "      <td>-0.2385</td>\n",
       "      <td>0.4407</td>\n",
       "      <td>-0.309758</td>\n",
       "      <td>...</td>\n",
       "      <td>0.075916</td>\n",
       "      <td>0.998474</td>\n",
       "      <td>0.975741</td>\n",
       "      <td>-1.0</td>\n",
       "      <td>-1.0</td>\n",
       "      <td>0.077778</td>\n",
       "      <td>-0.468889</td>\n",
       "      <td>-1.0</td>\n",
       "      <td>-1.0</td>\n",
       "      <td>0.203548</td>\n",
       "    </tr>\n",
       "  </tbody>\n",
       "</table>\n",
       "<p>5 rows × 21 columns</p>\n",
       "</div>"
      ],
      "text/plain": [
       "         F1        F2        F3        F4      F5      F6      F7      F8  \\\n",
       "0 -0.551010  0.000686 -0.020267  0.804865  0.7934 -0.6970 -0.5714  0.9982   \n",
       "1 -0.357759 -0.437762  0.814592  0.544350 -0.8238  0.1219  0.1663  0.1287   \n",
       "2  0.786903  0.244021  0.997581 -0.803233  0.8540  0.5266 -0.9377 -0.3504   \n",
       "3 -0.358734  0.914487 -0.307992  0.292983 -0.7772 -0.0383  0.9681 -0.8661   \n",
       "4 -0.048083  0.246027  0.089991 -0.680585  0.1571 -0.8039 -0.7961 -0.2385   \n",
       "\n",
       "       F9       F10    ...          F12       F13       F14  F17  F18  \\\n",
       "0 -0.5697  0.422812    ...     0.031631  0.617687 -0.343379 -0.6 -1.0   \n",
       "1 -0.3658 -0.114660    ...     0.137878 -0.903165  0.060917 -1.0 -1.0   \n",
       "2 -0.4511  0.594755    ...    -0.992213 -0.561016 -0.897822 -0.6 -1.0   \n",
       "3  0.3474 -0.572483    ...     0.655065 -0.469718  0.486870 -1.0 -1.0   \n",
       "4  0.4407 -0.309758    ...     0.075916  0.998474  0.975741 -1.0 -1.0   \n",
       "\n",
       "        F19       F20  F21  F22       F23  \n",
       "0  0.566667 -0.324444 -1.0 -0.9 -0.141271  \n",
       "1 -0.062222 -0.544444  0.7 -0.4 -0.045176  \n",
       "2  0.560000 -0.302222 -1.0 -0.7  0.234686  \n",
       "3 -0.731111 -0.326667  0.4 -1.0 -0.345584  \n",
       "4  0.077778 -0.468889 -1.0 -1.0  0.203548  \n",
       "\n",
       "[5 rows x 21 columns]"
      ]
     },
     "execution_count": 6,
     "metadata": {},
     "output_type": "execute_result"
    }
   ],
   "source": [
    "scaler = MinMaxScaler(feature_range=(-1,1))\n",
    "prob_data_scaled = pd.DataFrame(scaler.fit_transform(prob_data), columns=prob_data.columns)\n",
    "prob_data_scaled.head()"
   ]
  },
  {
   "cell_type": "code",
   "execution_count": 7,
   "metadata": {
    "collapsed": false
   },
   "outputs": [
    {
     "data": {
      "text/html": [
       "<div>\n",
       "<table border=\"1\" class=\"dataframe\">\n",
       "  <thead>\n",
       "    <tr style=\"text-align: right;\">\n",
       "      <th></th>\n",
       "      <th>F1</th>\n",
       "      <th>F2</th>\n",
       "      <th>F3</th>\n",
       "      <th>F4</th>\n",
       "      <th>F5</th>\n",
       "      <th>F6</th>\n",
       "      <th>F7</th>\n",
       "      <th>F8</th>\n",
       "      <th>F9</th>\n",
       "      <th>F10</th>\n",
       "      <th>F11</th>\n",
       "      <th>F12</th>\n",
       "      <th>F13</th>\n",
       "      <th>F14</th>\n",
       "      <th>F19</th>\n",
       "      <th>F20</th>\n",
       "      <th>F23</th>\n",
       "    </tr>\n",
       "  </thead>\n",
       "  <tbody>\n",
       "    <tr>\n",
       "      <th>0</th>\n",
       "      <td>-0.551010</td>\n",
       "      <td>0.000686</td>\n",
       "      <td>-0.020267</td>\n",
       "      <td>0.804865</td>\n",
       "      <td>0.7934</td>\n",
       "      <td>-0.6970</td>\n",
       "      <td>-0.5714</td>\n",
       "      <td>0.9982</td>\n",
       "      <td>-0.5697</td>\n",
       "      <td>0.422812</td>\n",
       "      <td>-0.391878</td>\n",
       "      <td>0.031631</td>\n",
       "      <td>0.617687</td>\n",
       "      <td>-0.343379</td>\n",
       "      <td>0.566667</td>\n",
       "      <td>-0.324444</td>\n",
       "      <td>-0.141271</td>\n",
       "    </tr>\n",
       "    <tr>\n",
       "      <th>1</th>\n",
       "      <td>-0.357759</td>\n",
       "      <td>-0.437762</td>\n",
       "      <td>0.814592</td>\n",
       "      <td>0.544350</td>\n",
       "      <td>-0.8238</td>\n",
       "      <td>0.1219</td>\n",
       "      <td>0.1663</td>\n",
       "      <td>0.1287</td>\n",
       "      <td>-0.3658</td>\n",
       "      <td>-0.114660</td>\n",
       "      <td>-0.683724</td>\n",
       "      <td>0.137878</td>\n",
       "      <td>-0.903165</td>\n",
       "      <td>0.060917</td>\n",
       "      <td>-0.062222</td>\n",
       "      <td>-0.544444</td>\n",
       "      <td>-0.045176</td>\n",
       "    </tr>\n",
       "    <tr>\n",
       "      <th>2</th>\n",
       "      <td>0.786903</td>\n",
       "      <td>0.244021</td>\n",
       "      <td>0.997581</td>\n",
       "      <td>-0.803233</td>\n",
       "      <td>0.8540</td>\n",
       "      <td>0.5266</td>\n",
       "      <td>-0.9377</td>\n",
       "      <td>-0.3504</td>\n",
       "      <td>-0.4511</td>\n",
       "      <td>0.594755</td>\n",
       "      <td>0.688122</td>\n",
       "      <td>-0.992213</td>\n",
       "      <td>-0.561016</td>\n",
       "      <td>-0.897822</td>\n",
       "      <td>0.560000</td>\n",
       "      <td>-0.302222</td>\n",
       "      <td>0.234686</td>\n",
       "    </tr>\n",
       "    <tr>\n",
       "      <th>3</th>\n",
       "      <td>-0.358734</td>\n",
       "      <td>0.914487</td>\n",
       "      <td>-0.307992</td>\n",
       "      <td>0.292983</td>\n",
       "      <td>-0.7772</td>\n",
       "      <td>-0.0383</td>\n",
       "      <td>0.9681</td>\n",
       "      <td>-0.8661</td>\n",
       "      <td>0.3474</td>\n",
       "      <td>-0.572483</td>\n",
       "      <td>-0.601424</td>\n",
       "      <td>0.655065</td>\n",
       "      <td>-0.469718</td>\n",
       "      <td>0.486870</td>\n",
       "      <td>-0.731111</td>\n",
       "      <td>-0.326667</td>\n",
       "      <td>-0.345584</td>\n",
       "    </tr>\n",
       "    <tr>\n",
       "      <th>4</th>\n",
       "      <td>-0.048083</td>\n",
       "      <td>0.246027</td>\n",
       "      <td>0.089991</td>\n",
       "      <td>-0.680585</td>\n",
       "      <td>0.1571</td>\n",
       "      <td>-0.8039</td>\n",
       "      <td>-0.7961</td>\n",
       "      <td>-0.2385</td>\n",
       "      <td>0.4407</td>\n",
       "      <td>-0.309758</td>\n",
       "      <td>-0.975592</td>\n",
       "      <td>0.075916</td>\n",
       "      <td>0.998474</td>\n",
       "      <td>0.975741</td>\n",
       "      <td>0.077778</td>\n",
       "      <td>-0.468889</td>\n",
       "      <td>0.203548</td>\n",
       "    </tr>\n",
       "  </tbody>\n",
       "</table>\n",
       "</div>"
      ],
      "text/plain": [
       "         F1        F2        F3        F4      F5      F6      F7      F8  \\\n",
       "0 -0.551010  0.000686 -0.020267  0.804865  0.7934 -0.6970 -0.5714  0.9982   \n",
       "1 -0.357759 -0.437762  0.814592  0.544350 -0.8238  0.1219  0.1663  0.1287   \n",
       "2  0.786903  0.244021  0.997581 -0.803233  0.8540  0.5266 -0.9377 -0.3504   \n",
       "3 -0.358734  0.914487 -0.307992  0.292983 -0.7772 -0.0383  0.9681 -0.8661   \n",
       "4 -0.048083  0.246027  0.089991 -0.680585  0.1571 -0.8039 -0.7961 -0.2385   \n",
       "\n",
       "       F9       F10       F11       F12       F13       F14       F19  \\\n",
       "0 -0.5697  0.422812 -0.391878  0.031631  0.617687 -0.343379  0.566667   \n",
       "1 -0.3658 -0.114660 -0.683724  0.137878 -0.903165  0.060917 -0.062222   \n",
       "2 -0.4511  0.594755  0.688122 -0.992213 -0.561016 -0.897822  0.560000   \n",
       "3  0.3474 -0.572483 -0.601424  0.655065 -0.469718  0.486870 -0.731111   \n",
       "4  0.4407 -0.309758 -0.975592  0.075916  0.998474  0.975741  0.077778   \n",
       "\n",
       "        F20       F23  \n",
       "0 -0.324444 -0.141271  \n",
       "1 -0.544444 -0.045176  \n",
       "2 -0.302222  0.234686  \n",
       "3 -0.326667 -0.345584  \n",
       "4 -0.468889  0.203548  "
      ]
     },
     "execution_count": 7,
     "metadata": {},
     "output_type": "execute_result"
    }
   ],
   "source": [
    "prob_data_final = prob_data_scaled.drop(['F21', 'F22', 'F18', 'F17'], axis = 1)\n",
    "prob_data_final.head()"
   ]
  },
  {
   "cell_type": "code",
   "execution_count": 8,
   "metadata": {
    "collapsed": true
   },
   "outputs": [],
   "source": [
    "X = prob_data_final.values\n",
    "y = prob.C.values\n",
    "X_train, X_test, y_train, y_test = train_test_split(X, y, random_state = 0)"
   ]
  },
  {
   "cell_type": "code",
   "execution_count": 9,
   "metadata": {
    "collapsed": true
   },
   "outputs": [],
   "source": [
    "k_range = range(1,101)\n",
    "k_class_weight_options = ['distance']"
   ]
  },
  {
   "cell_type": "code",
   "execution_count": null,
   "metadata": {
    "collapsed": false
   },
   "outputs": [
    {
     "name": "stdout",
     "output_type": "stream",
     "text": [
      "{'n_neighbors': [1, 2, 3, 4, 5, 6, 7, 8, 9, 10, 11, 12, 13, 14, 15, 16, 17, 18, 19, 20, 21, 22, 23, 24, 25, 26, 27, 28, 29, 30, 31, 32, 33, 34, 35, 36, 37, 38, 39, 40, 41, 42, 43, 44, 45, 46, 47, 48, 49, 50, 51, 52, 53, 54, 55, 56, 57, 58, 59, 60, 61, 62, 63, 64, 65, 66, 67, 68, 69, 70, 71, 72, 73, 74, 75, 76, 77, 78, 79, 80, 81, 82, 83, 84, 85, 86, 87, 88, 89, 90, 91, 92, 93, 94, 95, 96, 97, 98, 99, 100], 'weights': ['distance']}\n"
     ]
    }
   ],
   "source": [
    "params_grid2 = dict(n_neighbors=k_range, weights = k_class_weight_options)\n",
    "print params_grid2"
   ]
  },
  {
   "cell_type": "code",
   "execution_count": null,
   "metadata": {
    "collapsed": false
   },
   "outputs": [
    {
     "name": "stderr",
     "output_type": "stream",
     "text": [
      "/home/ubuntu/anaconda2/lib/python2.7/site-packages/sklearn/metrics/classification.py:1113: UndefinedMetricWarning: Precision is ill-defined and being set to 0.0 due to no predicted samples.\n",
      "  'precision', 'predicted', average, warn_for)\n"
     ]
    }
   ],
   "source": [
    "knn = KNeighborsClassifier()\n",
    "grid = GridSearchCV(knn, params_grid2, cv=10, scoring='roc_auc', n_jobs=-1)\n",
    "grid.fit(X_train, y_train)"
   ]
  },
  {
   "cell_type": "code",
   "execution_count": 12,
   "metadata": {
    "collapsed": false
   },
   "outputs": [
    {
     "name": "stdout",
     "output_type": "stream",
     "text": [
      "[0.2958232038809726, 0.2958232038809726, 0.3108651933747668, 0.31229160650841337, 0.3272994393341346, 0.3281729938244499, 0.3424963714924885, 0.343887583004318, 0.3488584720156967, 0.34634286500200906, 0.35294607237834147, 0.34959372717283566, 0.3505428618457928, 0.358072680865987, 0.3581074437278586, 0.3607052280041958, 0.3642866867776314, 0.3716831320040484, 0.37298902883944024, 0.37639997118114343, 0.38001364747860944, 0.3768129907968212, 0.3721567439164817, 0.36997832552632404, 0.37043351628505905, 0.3692411535097144, 0.3625304564130542, 0.372220165833448, 0.36790339998506866, 0.36447651628872035, 0.3693941332512353, 0.3795625544086588, 0.3778825355028986, 0.3652748517278193, 0.3799665208217891, 0.369189226022243, 0.37655891469160474, 0.36243138510917394, 0.38229374329279575, 0.36579756785033346, 0.38345002269629225, 0.36376024949774227, 0.38994554617307875, 0.39271746691100906, 0.4054203262087386, 0.38432378534984474, 0.4013358761707203, 0.3874259772063918, 0.37056172101860063, 0.39210751246872144, 0.3827424222740734, 0.3939458092095965, 0.4027102062067734, 0.4025058408876495, 0.40759693339391007, 0.41913075986582726, 0.42155154804232287, 0.4261313296841165, 0.4106049341405272, 0.40043155804094377, 0.4098260310471512, 0.39623629308896097, 0.4163724810387136, 0.39603584659148205, 0.38719329773595323, 0.4059324725456935, 0.3890971232540712, 0.36411470431190673, 0.4049550535486492, 0.3747243044890801, 0.3565663525378884, 0.3627861104289252, 0.3246891528449149, 0.32218085846273237, 0.36805491496635995, 0.36848857554925946, 0.39834771913641254, 0.3935674595330654, 0.34345869533159507, 0.36798412070896747, 0.3496612825798435, 0.35036836754864037, 0.37204552941951635, 0.39538083942808194, 0.38954596083672977, 0.376686872680152, 0.3812138354715939, 0.4516797346862577, 0.30666798445015486, 0.29832795238409, 0.2400065889174409, 0.20333970262019282, 0.22833915354373943, 0.253338604467286, 0.2733403615119369, 0.2933368474226351, 0.22000307482813902, 0.225002745382267, 0.2166699611253871, 0.20667062001713118]\n"
     ]
    }
   ],
   "source": [
    "print grid.best_score_\n",
    "print grid.best_params_\n",
    "print grid.best_estimator_"
   ]
  },
  {
   "cell_type": "code",
   "execution_count": null,
   "metadata": {
    "collapsed": true
   },
   "outputs": [],
   "source": [
    "y_pred_knn1 = grid.predict_proba(X_test)[:,1]\n",
    "y_pred_knn1 = pd.Series(y_pred_knn1)\n",
    "y_pred_knn1.hist()"
   ]
  },
  {
   "cell_type": "code",
   "execution_count": 20,
   "metadata": {
    "collapsed": true
   },
   "outputs": [],
   "source": [
    "precision, recall, thresholds = precision_recall_curve(y_test, y_pred_knn1)  \n",
    "thresholds = np.append(thresholds, 1)\n",
    "\n",
    "plt.plot(thresholds, precision, color=sns.color_palette()[0],  )  \n",
    "plt.plot(thresholds, recall, color=sns.color_palette()[1])\n",
    "\n",
    "leg = plt.legend(('precision', 'recall'), frameon=True)  \n",
    "leg.get_frame().set_edgecolor('k')  \n",
    "plt.xlabel('threshold')\n",
    "plt.ylabel('%')\n",
    "plt.savefig('precion-recall-curve-knn_1.jpg')"
   ]
  },
  {
   "cell_type": "code",
   "execution_count": 23,
   "metadata": {
    "collapsed": false
   },
   "outputs": [
    {
     "name": "stdout",
     "output_type": "stream",
     "text": [
      "25291 25291 25290\n"
     ]
    }
   ],
   "source": [
    "print len(precision), len(recall), len(thresholds)"
   ]
  },
  {
   "cell_type": "code",
   "execution_count": 18,
   "metadata": {
    "collapsed": false
   },
   "outputs": [],
   "source": [
    "false_positive_rate, true_positive_rate, thresholds = roc_curve(y_test, y_pred_knn1)\n",
    "roc_auc = auc(false_positive_rate, true_positive_rate)"
   ]
  },
  {
   "cell_type": "code",
   "execution_count": 24,
   "metadata": {
    "collapsed": false
   },
   "outputs": [
    {
     "data": {
      "image/png": "[encoded data removed]",
      "text/plain": [
       "<matplotlib.figure.Figure at 0x7fea48cf1410>"
      ]
     },
     "metadata": {},
     "output_type": "display_data"
    }
   ],
   "source": [
    "plt.title('Receiver Operating Characteristic KNN_88')\n",
    "plt.plot(false_positive_rate, true_positive_rate, 'b', label='AUC = %0.2f'% roc_auc)\n",
    "plt.legend(loc='lower right')\n",
    "plt.plot([0,1],[0,1],'r--')\n",
    "plt.xlim([-0.1,1.2])\n",
    "plt.ylim([-0.1,1.2])\n",
    "plt.ylabel('True Positive Rate')\n",
    "plt.xlabel('False Positive Rate')\n",
    "plt.savefig('KNearestNeighbors_88_roc_curve.jpg')"
   ]
  },
  {
   "cell_type": "code",
   "execution_count": 20,
   "metadata": {
    "collapsed": false
   },
   "outputs": [
    {
     "data": {
      "text/plain": [
       "0.65907193593004065"
      ]
     },
     "execution_count": 20,
     "metadata": {},
     "output_type": "execute_result"
    }
   ],
   "source": [
    "roc_auc"
   ]
  },
  {
   "cell_type": "code",
   "execution_count": 21,
   "metadata": {
    "collapsed": false
   },
   "outputs": [
    {
     "data": {
      "text/plain": [
       "KNeighborsClassifier(algorithm='auto', leaf_size=30, metric='minkowski',\n",
       "           metric_params=None, n_jobs=1, n_neighbors=58, p=2,\n",
       "           weights='distance')"
      ]
     },
     "execution_count": 21,
     "metadata": {},
     "output_type": "execute_result"
    }
   ],
   "source": [
    "knn_58 = KNeighborsClassifier(algorithm='auto', leaf_size=30, metric='minkowski',\n",
    "           metric_params=None, n_jobs=1, n_neighbors=58, p=2,\n",
    "           weights='distance')\n",
    "knn_58.fit(X_train, y_train)"
   ]
  },
  {
   "cell_type": "code",
   "execution_count": 22,
   "metadata": {
    "collapsed": true
   },
   "outputs": [],
   "source": [
    "y_pred_knn_58 = knn_58.predict_proba(X_test)[:,1]"
   ]
  },
  {
   "cell_type": "code",
   "execution_count": 25,
   "metadata": {
    "collapsed": true
   },
   "outputs": [],
   "source": [
    "false_positive_rate_58, true_positive_rate_58, thresholds_58 = roc_curve(y_test, y_pred_knn_58)\n",
    "roc_auc_58 = auc(false_positive_rate_58, true_positive_rate_58)"
   ]
  },
  {
   "cell_type": "code",
   "execution_count": 26,
   "metadata": {
    "collapsed": false
   },
   "outputs": [
    {
     "data": {
      "image/png": "[encoded data removed]",
      "text/plain": [
       "<matplotlib.figure.Figure at 0x7fea485f0410>"
      ]
     },
     "metadata": {},
     "output_type": "display_data"
    }
   ],
   "source": [
    "plt.title('Receiver Operating Characteristic KNN_58')\n",
    "plt.plot(false_positive_rate_58, true_positive_rate_58, 'b', label='AUC = %0.2f'% roc_auc_58)\n",
    "plt.legend(loc='lower right')\n",
    "plt.plot([0,1],[0,1],'r--')\n",
    "plt.xlim([-0.1,1.2])\n",
    "plt.ylim([-0.1,1.2])\n",
    "plt.ylabel('True Positive Rate')\n",
    "plt.xlabel('False Positive Rate')\n",
    "plt.savefig('KNearestNeighbors_58_roc_curve.jpg')"
   ]
  },
  {
   "cell_type": "code",
   "execution_count": 27,
   "metadata": {
    "collapsed": false
   },
   "outputs": [
    {
     "data": {
      "text/plain": [
       "0.6477929771764328"
      ]
     },
     "execution_count": 27,
     "metadata": {},
     "output_type": "execute_result"
    }
   ],
   "source": [
    "roc_auc_58"
   ]
  },
  {
   "cell_type": "code",
   "execution_count": null,
   "metadata": {
    "collapsed": true
   },
   "outputs": [],
   "source": [
    "T = float(raw_input())\n",
    "y_pred_knn1 = pd.Series(y_pred_knn1)\n",
    "pred_test = y_pred_knn1.map(lambda x: 0 if x<T else 1)\n",
    "cnf_matrix = confusion_matrix(y_test, pred_test)\n",
    "df_cm= pd.DataFrame(cnf_matrix, [0,1], [0,1])\n",
    "g = sns.set(font_scale=1.4)\n",
    "g = sns.heatmap(df_cm, annot=True,annot_kws={\"size\": 16})\n",
    "fig =g.get_figure()\n",
    "fig.savefig('confusion_matrix_knn88_t_'+str(T)+'.jpg')"
   ]
  },
  {
   "cell_type": "code",
   "execution_count": null,
   "metadata": {
    "collapsed": true
   },
   "outputs": [],
   "source": []
  }
 ],
 "metadata": {
  "anaconda-cloud": {},
  "kernelspec": {
   "display_name": "Python [default]",
   "language": "python",
   "name": "python2"
  },
  "language_info": {
   "codemirror_mode": {
    "name": "ipython",
    "version": 2
   },
   "file_extension": ".py",
   "mimetype": "text/x-python",
   "name": "python",
   "nbconvert_exporter": "python",
   "pygments_lexer": "ipython2",
   "version": "2.7.12"
  }
 },
 "nbformat": 4,
 "nbformat_minor": 1
}
